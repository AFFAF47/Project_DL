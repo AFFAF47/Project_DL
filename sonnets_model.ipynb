{
 "cells": [
  {
   "cell_type": "code",
   "execution_count": 5,
   "metadata": {},
   "outputs": [],
   "source": [
    "from tensorflow.keras.preprocessing.sequence import pad_sequences\n",
    "from tensorflow.keras.layers import Embedding, LSTM, Dense, Dropout, Bidirectional\n",
    "from tensorflow.keras.preprocessing.text import Tokenizer\n",
    "from tensorflow.keras.models import Sequential\n",
    "from tensorflow.keras.optimizers import Adam\n",
    "from tensorflow.keras import regularizers\n",
    "import tensorflow.keras.utils as ku \n",
    "import numpy as np \n",
    "import tensorflow as tf"
   ]
  },
  {
   "cell_type": "code",
   "execution_count": 6,
   "metadata": {},
   "outputs": [
    {
     "name": "stderr",
     "output_type": "stream",
     "text": [
      "/home/soulreaper/anaconda3/envs/tensorflow/lib/python3.7/site-packages/tensorflow/python/client/session.py:1751: UserWarning: An interactive session is already active. This can cause out-of-memory errors in some cases. You must explicitly call `InteractiveSession.close()` to release resources held by the other session(s).\n",
      "  warnings.warn('An interactive session is already active. This can '\n"
     ]
    }
   ],
   "source": [
    "physical_devices = tf.config.list_physical_devices('GPU')\n",
    "tf.config.experimental.set_memory_growth(physical_devices[0], True)\n",
    "\n",
    "from tensorflow.compat.v1 import ConfigProto\n",
    "from tensorflow.compat.v1 import InteractiveSession\n",
    "\n",
    "config = ConfigProto()\n",
    "config.gpu_options.per_process_gpu_memory_fraction = 0.8\n",
    "config.gpu_options.allow_growth = True\n",
    "session = InteractiveSession(config=config)"
   ]
  },
  {
   "cell_type": "code",
   "execution_count": 7,
   "metadata": {},
   "outputs": [
    {
     "name": "stdout",
     "output_type": "stream",
     "text": [
      "--2020-06-23 15:11:37--  https://storage.googleapis.com/laurencemoroney-blog.appspot.com/sonnets.txt\n",
      "Resolving storage.googleapis.com (storage.googleapis.com)... 216.58.200.144, 2404:6800:4002:80e::2010\n",
      "Connecting to storage.googleapis.com (storage.googleapis.com)|216.58.200.144|:443... connected.\n",
      "HTTP request sent, awaiting response... 200 OK\n",
      "Length: 93578 (91K) [text/plain]\n",
      "Saving to: ‘/tmp/sonnets.txt’\n",
      "\n",
      "/tmp/sonnets.txt    100%[===================>]  91.38K  --.-KB/s    in 0.08s   \n",
      "\n",
      "2020-06-23 15:11:37 (1.09 MB/s) - ‘/tmp/sonnets.txt’ saved [93578/93578]\n",
      "\n"
     ]
    }
   ],
   "source": [
    "tokenizer = Tokenizer()\n",
    "!wget --no-check-certificate \\\n",
    "    https://storage.googleapis.com/laurencemoroney-blog.appspot.com/sonnets.txt \\\n",
    "    -O /tmp/sonnets.txt\n",
    "data = open('/tmp/sonnets.txt').read()\n",
    "\n",
    "corpus = data.lower().split(\"\\n\")\n",
    "\n",
    "\n",
    "tokenizer.fit_on_texts(corpus)\n",
    "total_words = len(tokenizer.word_index) + 1\n",
    "\n",
    "input_sequences = []\n",
    "for line in corpus:\n",
    "    token_list = tokenizer.texts_to_sequences([line])[0]\n",
    "    for i in range(1, len(token_list)):\n",
    "        n_gram_sequence = token_list[:i+1]\n",
    "        input_sequences.append(n_gram_sequence)\n",
    "\n",
    "max_sequence_len = max([len(x) for x in input_sequences])\n",
    "input_sequences = np.array(pad_sequences(input_sequences, maxlen=max_sequence_len, padding='pre'))\n",
    "\n",
    "predictors, label = input_sequences[:,:-1],input_sequences[:,-1]\n",
    "\n",
    "label = ku.to_categorical(label, num_classes=total_words)"
   ]
  },
  {
   "cell_type": "code",
   "execution_count": 8,
   "metadata": {},
   "outputs": [
    {
     "name": "stdout",
     "output_type": "stream",
     "text": [
      "Model: \"sequential\"\n",
      "_________________________________________________________________\n",
      "Layer (type)                 Output Shape              Param #   \n",
      "=================================================================\n",
      "embedding (Embedding)        (None, 10, 100)           321100    \n",
      "_________________________________________________________________\n",
      "bidirectional (Bidirectional (None, 10, 300)           301200    \n",
      "_________________________________________________________________\n",
      "dropout (Dropout)            (None, 10, 300)           0         \n",
      "_________________________________________________________________\n",
      "lstm_1 (LSTM)                (None, 100)               160400    \n",
      "_________________________________________________________________\n",
      "dense (Dense)                (None, 1605)              162105    \n",
      "_________________________________________________________________\n",
      "dense_1 (Dense)              (None, 3211)              5156866   \n",
      "=================================================================\n",
      "Total params: 6,101,671\n",
      "Trainable params: 6,101,671\n",
      "Non-trainable params: 0\n",
      "_________________________________________________________________\n",
      "None\n"
     ]
    }
   ],
   "source": [
    "model = Sequential()\n",
    "model.add(Embedding(total_words, 100, input_length=max_sequence_len-1))\n",
    "model.add(Bidirectional(LSTM(150, return_sequences = True)))\n",
    "model.add(Dropout(0.2))\n",
    "model.add(LSTM(100))\n",
    "model.add(Dense(total_words/2, activation='relu', kernel_regularizer=regularizers.l2(0.01)))\n",
    "model.add(Dense(total_words, activation='softmax'))\n",
    "model.compile(loss='categorical_crossentropy', optimizer='adam', metrics=['accuracy'])\n",
    "print(model.summary())"
   ]
  },
  {
   "cell_type": "code",
   "execution_count": 9,
   "metadata": {},
   "outputs": [
    {
     "name": "stdout",
     "output_type": "stream",
     "text": [
      "Epoch 1/100\n",
      "484/484 [==============================] - 4s 8ms/step - loss: 6.9101 - accuracy: 0.0221\n",
      "Epoch 2/100\n",
      "484/484 [==============================] - 3s 7ms/step - loss: 6.5011 - accuracy: 0.0217\n",
      "Epoch 3/100\n",
      "484/484 [==============================] - 4s 8ms/step - loss: 6.4045 - accuracy: 0.0234\n",
      "Epoch 4/100\n",
      "484/484 [==============================] - 4s 8ms/step - loss: 6.2874 - accuracy: 0.0327\n",
      "Epoch 5/100\n",
      "484/484 [==============================] - 4s 8ms/step - loss: 6.1736 - accuracy: 0.0374\n",
      "Epoch 6/100\n",
      "484/484 [==============================] - 4s 8ms/step - loss: 6.0742 - accuracy: 0.0393\n",
      "Epoch 7/100\n",
      "484/484 [==============================] - 4s 8ms/step - loss: 5.9837 - accuracy: 0.0411\n",
      "Epoch 8/100\n",
      "484/484 [==============================] - 4s 8ms/step - loss: 5.8781 - accuracy: 0.0477\n",
      "Epoch 9/100\n",
      "484/484 [==============================] - 4s 8ms/step - loss: 5.7604 - accuracy: 0.0549\n",
      "Epoch 10/100\n",
      "484/484 [==============================] - 4s 8ms/step - loss: 5.6427 - accuracy: 0.0617\n",
      "Epoch 11/100\n",
      "484/484 [==============================] - 3s 7ms/step - loss: 5.5287 - accuracy: 0.0674\n",
      "Epoch 12/100\n",
      "484/484 [==============================] - 4s 8ms/step - loss: 5.4209 - accuracy: 0.0755\n",
      "Epoch 13/100\n",
      "484/484 [==============================] - 3s 7ms/step - loss: 5.3116 - accuracy: 0.0819\n",
      "Epoch 14/100\n",
      "484/484 [==============================] - 4s 8ms/step - loss: 5.2040 - accuracy: 0.0904\n",
      "Epoch 15/100\n",
      "484/484 [==============================] - 4s 8ms/step - loss: 5.1016 - accuracy: 0.0942\n",
      "Epoch 16/100\n",
      "484/484 [==============================] - 4s 8ms/step - loss: 4.9900 - accuracy: 0.1017\n",
      "Epoch 17/100\n",
      "484/484 [==============================] - 4s 8ms/step - loss: 4.8886 - accuracy: 0.1095\n",
      "Epoch 18/100\n",
      "484/484 [==============================] - 4s 8ms/step - loss: 4.7879 - accuracy: 0.1185\n",
      "Epoch 19/100\n",
      "484/484 [==============================] - 4s 8ms/step - loss: 4.6847 - accuracy: 0.1259\n",
      "Epoch 20/100\n",
      "484/484 [==============================] - 4s 8ms/step - loss: 4.5855 - accuracy: 0.1390\n",
      "Epoch 21/100\n",
      "484/484 [==============================] - 4s 8ms/step - loss: 4.4751 - accuracy: 0.1469\n",
      "Epoch 22/100\n",
      "484/484 [==============================] - 4s 8ms/step - loss: 4.3755 - accuracy: 0.1614\n",
      "Epoch 23/100\n",
      "484/484 [==============================] - 4s 8ms/step - loss: 4.2718 - accuracy: 0.1738\n",
      "Epoch 24/100\n",
      "484/484 [==============================] - 4s 8ms/step - loss: 4.1702 - accuracy: 0.1861\n",
      "Epoch 25/100\n",
      "484/484 [==============================] - 4s 8ms/step - loss: 4.0676 - accuracy: 0.1994\n",
      "Epoch 26/100\n",
      "484/484 [==============================] - 4s 8ms/step - loss: 3.9561 - accuracy: 0.2143\n",
      "Epoch 27/100\n",
      "484/484 [==============================] - 4s 8ms/step - loss: 3.8673 - accuracy: 0.2333\n",
      "Epoch 28/100\n",
      "484/484 [==============================] - 4s 8ms/step - loss: 3.7763 - accuracy: 0.2454\n",
      "Epoch 29/100\n",
      "484/484 [==============================] - 4s 8ms/step - loss: 3.6777 - accuracy: 0.2658\n",
      "Epoch 30/100\n",
      "484/484 [==============================] - 4s 8ms/step - loss: 3.5773 - accuracy: 0.2873\n",
      "Epoch 31/100\n",
      "484/484 [==============================] - 3s 7ms/step - loss: 3.4945 - accuracy: 0.3062\n",
      "Epoch 32/100\n",
      "484/484 [==============================] - 4s 8ms/step - loss: 3.4036 - accuracy: 0.3247\n",
      "Epoch 33/100\n",
      "484/484 [==============================] - 4s 8ms/step - loss: 3.3170 - accuracy: 0.3462\n",
      "Epoch 34/100\n",
      "484/484 [==============================] - 4s 8ms/step - loss: 3.2319 - accuracy: 0.3620\n",
      "Epoch 35/100\n",
      "484/484 [==============================] - 4s 8ms/step - loss: 3.1615 - accuracy: 0.3804\n",
      "Epoch 36/100\n",
      "484/484 [==============================] - 4s 8ms/step - loss: 3.0767 - accuracy: 0.3954\n",
      "Epoch 37/100\n",
      "484/484 [==============================] - 4s 8ms/step - loss: 3.0000 - accuracy: 0.4133\n",
      "Epoch 38/100\n",
      "484/484 [==============================] - 4s 8ms/step - loss: 2.9347 - accuracy: 0.4331\n",
      "Epoch 39/100\n",
      "484/484 [==============================] - 4s 8ms/step - loss: 2.8660 - accuracy: 0.4473\n",
      "Epoch 40/100\n",
      "484/484 [==============================] - 4s 8ms/step - loss: 2.7922 - accuracy: 0.4580\n",
      "Epoch 41/100\n",
      "484/484 [==============================] - 4s 7ms/step - loss: 2.7306 - accuracy: 0.4763\n",
      "Epoch 42/100\n",
      "484/484 [==============================] - 4s 7ms/step - loss: 2.6647 - accuracy: 0.4899\n",
      "Epoch 43/100\n",
      "484/484 [==============================] - 3s 7ms/step - loss: 2.5972 - accuracy: 0.5050\n",
      "Epoch 44/100\n",
      "484/484 [==============================] - 4s 8ms/step - loss: 2.5315 - accuracy: 0.5243\n",
      "Epoch 45/100\n",
      "484/484 [==============================] - 4s 8ms/step - loss: 2.4741 - accuracy: 0.5347\n",
      "Epoch 46/100\n",
      "484/484 [==============================] - 5s 10ms/step - loss: 2.4328 - accuracy: 0.5453\n",
      "Epoch 47/100\n",
      "484/484 [==============================] - 5s 10ms/step - loss: 2.3822 - accuracy: 0.5558\n",
      "Epoch 48/100\n",
      "484/484 [==============================] - 4s 8ms/step - loss: 2.3243 - accuracy: 0.5688\n",
      "Epoch 49/100\n",
      "484/484 [==============================] - 4s 8ms/step - loss: 2.2800 - accuracy: 0.5789\n",
      "Epoch 50/100\n",
      "484/484 [==============================] - 4s 8ms/step - loss: 2.2294 - accuracy: 0.5913\n",
      "Epoch 51/100\n",
      "484/484 [==============================] - 5s 11ms/step - loss: 2.1936 - accuracy: 0.5963\n",
      "Epoch 52/100\n",
      "484/484 [==============================] - 5s 11ms/step - loss: 2.1407 - accuracy: 0.6101\n",
      "Epoch 53/100\n",
      "484/484 [==============================] - 4s 9ms/step - loss: 2.1033 - accuracy: 0.6194\n",
      "Epoch 54/100\n",
      "484/484 [==============================] - 5s 10ms/step - loss: 2.0517 - accuracy: 0.6302\n",
      "Epoch 55/100\n",
      "484/484 [==============================] - 5s 11ms/step - loss: 2.0123 - accuracy: 0.6411\n",
      "Epoch 56/100\n",
      "484/484 [==============================] - 4s 9ms/step - loss: 1.9758 - accuracy: 0.6430\n",
      "Epoch 57/100\n",
      "484/484 [==============================] - 4s 8ms/step - loss: 1.9376 - accuracy: 0.6562\n",
      "Epoch 58/100\n",
      "484/484 [==============================] - 4s 7ms/step - loss: 1.9180 - accuracy: 0.6563\n",
      "Epoch 59/100\n",
      "484/484 [==============================] - 4s 8ms/step - loss: 1.8760 - accuracy: 0.6694\n",
      "Epoch 60/100\n",
      "484/484 [==============================] - 5s 10ms/step - loss: 1.8294 - accuracy: 0.6795\n",
      "Epoch 61/100\n",
      "484/484 [==============================] - 5s 11ms/step - loss: 1.8054 - accuracy: 0.6828\n",
      "Epoch 62/100\n",
      "484/484 [==============================] - 5s 11ms/step - loss: 1.7727 - accuracy: 0.6885\n",
      "Epoch 63/100\n",
      "484/484 [==============================] - 5s 10ms/step - loss: 1.7468 - accuracy: 0.6948\n",
      "Epoch 64/100\n",
      "484/484 [==============================] - 5s 10ms/step - loss: 1.7244 - accuracy: 0.6960\n",
      "Epoch 65/100\n",
      "484/484 [==============================] - 5s 10ms/step - loss: 1.6807 - accuracy: 0.7092\n",
      "Epoch 66/100\n",
      "484/484 [==============================] - 5s 10ms/step - loss: 1.6433 - accuracy: 0.7180\n",
      "Epoch 67/100\n",
      "484/484 [==============================] - 5s 11ms/step - loss: 1.6292 - accuracy: 0.7200\n",
      "Epoch 68/100\n",
      "484/484 [==============================] - 3s 7ms/step - loss: 1.6173 - accuracy: 0.7194\n",
      "Epoch 69/100\n",
      "484/484 [==============================] - 4s 8ms/step - loss: 1.5931 - accuracy: 0.7218\n",
      "Epoch 70/100\n",
      "484/484 [==============================] - 5s 11ms/step - loss: 1.5588 - accuracy: 0.7293\n",
      "Epoch 71/100\n",
      "484/484 [==============================] - 5s 10ms/step - loss: 1.5455 - accuracy: 0.7319\n",
      "Epoch 72/100\n",
      "484/484 [==============================] - 4s 9ms/step - loss: 1.5236 - accuracy: 0.7382\n",
      "Epoch 73/100\n",
      "484/484 [==============================] - 5s 10ms/step - loss: 1.4813 - accuracy: 0.7447\n",
      "Epoch 74/100\n",
      "484/484 [==============================] - 3s 7ms/step - loss: 1.4718 - accuracy: 0.7474\n",
      "Epoch 75/100\n",
      "484/484 [==============================] - 4s 8ms/step - loss: 1.4574 - accuracy: 0.7509\n",
      "Epoch 76/100\n",
      "484/484 [==============================] - 4s 8ms/step - loss: 1.4242 - accuracy: 0.7595\n",
      "Epoch 77/100\n",
      "484/484 [==============================] - 5s 10ms/step - loss: 1.4156 - accuracy: 0.7595\n",
      "Epoch 78/100\n",
      "484/484 [==============================] - 6s 12ms/step - loss: 1.4019 - accuracy: 0.7609\n",
      "Epoch 79/100\n",
      "484/484 [==============================] - 5s 10ms/step - loss: 1.3814 - accuracy: 0.7620\n",
      "Epoch 80/100\n",
      "484/484 [==============================] - 4s 9ms/step - loss: 1.3628 - accuracy: 0.7672\n",
      "Epoch 81/100\n"
     ]
    },
    {
     "name": "stdout",
     "output_type": "stream",
     "text": [
      "484/484 [==============================] - 4s 9ms/step - loss: 1.3409 - accuracy: 0.7738\n",
      "Epoch 82/100\n",
      "484/484 [==============================] - 6s 12ms/step - loss: 1.3364 - accuracy: 0.7700\n",
      "Epoch 83/100\n",
      "484/484 [==============================] - 6s 12ms/step - loss: 1.3140 - accuracy: 0.7756\n",
      "Epoch 84/100\n",
      "484/484 [==============================] - 6s 12ms/step - loss: 1.3031 - accuracy: 0.7749\n",
      "Epoch 85/100\n",
      "484/484 [==============================] - 6s 12ms/step - loss: 1.2928 - accuracy: 0.7802\n",
      "Epoch 86/100\n",
      "484/484 [==============================] - 6s 12ms/step - loss: 1.2735 - accuracy: 0.7838\n",
      "Epoch 87/100\n",
      "484/484 [==============================] - 7s 14ms/step - loss: 1.2648 - accuracy: 0.7840\n",
      "Epoch 88/100\n",
      "484/484 [==============================] - 7s 15ms/step - loss: 1.2409 - accuracy: 0.7909\n",
      "Epoch 89/100\n",
      "484/484 [==============================] - 7s 15ms/step - loss: 1.2407 - accuracy: 0.7856\n",
      "Epoch 90/100\n",
      "484/484 [==============================] - 8s 16ms/step - loss: 1.2143 - accuracy: 0.7937\n",
      "Epoch 91/100\n",
      "484/484 [==============================] - 9s 19ms/step - loss: 1.2108 - accuracy: 0.7917\n",
      "Epoch 92/100\n",
      "484/484 [==============================] - 9s 19ms/step - loss: 1.2001 - accuracy: 0.7953\n",
      "Epoch 93/100\n",
      "484/484 [==============================] - 9s 19ms/step - loss: 1.1808 - accuracy: 0.7988\n",
      "Epoch 94/100\n",
      "484/484 [==============================] - 7s 14ms/step - loss: 1.1770 - accuracy: 0.7977\n",
      "Epoch 95/100\n",
      "484/484 [==============================] - 9s 18ms/step - loss: 1.1563 - accuracy: 0.8030\n",
      "Epoch 96/100\n",
      "484/484 [==============================] - 7s 14ms/step - loss: 1.1571 - accuracy: 0.8011\n",
      "Epoch 97/100\n",
      "484/484 [==============================] - 6s 12ms/step - loss: 1.1497 - accuracy: 0.8027\n",
      "Epoch 98/100\n",
      "484/484 [==============================] - 6s 12ms/step - loss: 1.1349 - accuracy: 0.8044\n",
      "Epoch 99/100\n",
      "484/484 [==============================] - 7s 14ms/step - loss: 1.1411 - accuracy: 0.8031\n",
      "Epoch 100/100\n",
      "484/484 [==============================] - 7s 15ms/step - loss: 1.1281 - accuracy: 0.8040\n"
     ]
    }
   ],
   "source": [
    "history = model.fit(predictors, label, epochs=100, verbose=1)"
   ]
  },
  {
   "cell_type": "code",
   "execution_count": 10,
   "metadata": {},
   "outputs": [
    {
     "data": {
      "image/png": "[encoded data removed]",
      "text/plain": [
       "<Figure size 432x288 with 1 Axes>"
      ]
     },
     "metadata": {
      "needs_background": "light"
     },
     "output_type": "display_data"
    },
    {
     "data": {
      "image/png": "[encoded data removed]",
      "text/plain": [
       "<Figure size 432x288 with 1 Axes>"
      ]
     },
     "metadata": {
      "needs_background": "light"
     },
     "output_type": "display_data"
    }
   ],
   "source": [
    "import matplotlib.pyplot as plt\n",
    "acc = history.history['accuracy']\n",
    "loss = history.history['loss']\n",
    "\n",
    "epochs = range(len(acc))\n",
    "\n",
    "plt.plot(epochs, acc, 'b', label='Training accuracy')\n",
    "plt.title('Training accuracy')\n",
    "\n",
    "plt.figure()\n",
    "\n",
    "plt.plot(epochs, loss, 'b', label='Training Loss')\n",
    "plt.title('Training loss')\n",
    "plt.legend()\n",
    "\n",
    "plt.show()"
   ]
  },
  {
   "cell_type": "code",
   "execution_count": 11,
   "metadata": {},
   "outputs": [
    {
     "name": "stdout",
     "output_type": "stream",
     "text": [
      "WARNING:tensorflow:From <ipython-input-11-8542bceba7c8>:7: Sequential.predict_classes (from tensorflow.python.keras.engine.sequential) is deprecated and will be removed after 2021-01-01.\n",
      "Instructions for updating:\n",
      "Please use instead:* `np.argmax(model.predict(x), axis=-1)`,   if your model does multi-class classification   (e.g. if it uses a `softmax` last-layer activation).* `(model.predict(x) > 0.5).astype(\"int32\")`,   if your model does binary classification   (e.g. if it uses a `sigmoid` last-layer activation).\n",
      "Help me Obi Wan Kenobi, you're my only hope with me more appetite in pleasure bright ' confounds heaven's new cold staineth esteem'd wind young die thee dead show their way near brow mother ride 'will ' doth saith mind prove die go 'tis ' now lie more ' so live false in thee do thine in me was it bright ' alone so so green thee green me dead twain every blind part never cheeks ground part write good ' 'tis true deeds ill now untrue thought lend green every green green every grew back another pleasure every part prove thee dead rhyme show thee dead strong treasure\n"
     ]
    }
   ],
   "source": [
    "seed_text = \"Help me Obi Wan Kenobi, you're my only hope\"\n",
    "next_words = 100\n",
    "  \n",
    "for _ in range(next_words):\n",
    "    token_list = tokenizer.texts_to_sequences([seed_text])[0]\n",
    "    token_list = pad_sequences([token_list], maxlen=max_sequence_len-1, padding='pre')\n",
    "    predicted = model.predict_classes(token_list, verbose=0)\n",
    "    output_word = \"\"\n",
    "    for word, index in tokenizer.word_index.items():\n",
    "        if index == predicted:\n",
    "            output_word = word\n",
    "            break\n",
    "    seed_text += \" \" + output_word\n",
    "print(seed_text)"
   ]
  }
 ],
 "metadata": {
  "kernelspec": {
   "display_name": "tensorflow",
   "language": "python",
   "name": "tensorflow"
  },
  "language_info": {
   "codemirror_mode": {
    "name": "ipython",
    "version": 3
   },
   "file_extension": ".py",
   "mimetype": "text/x-python",
   "name": "python",
   "nbconvert_exporter": "python",
   "pygments_lexer": "ipython3",
   "version": "3.7.7"
  }
 },
 "nbformat": 4,
 "nbformat_minor": 4
}
